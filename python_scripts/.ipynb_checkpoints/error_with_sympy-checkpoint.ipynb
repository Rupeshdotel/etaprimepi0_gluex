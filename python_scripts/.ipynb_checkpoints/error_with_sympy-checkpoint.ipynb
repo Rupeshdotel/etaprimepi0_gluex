{
 "cells": [
  {
   "cell_type": "code",
   "execution_count": 2,
   "metadata": {},
   "outputs": [],
   "source": [
    "\n",
    "import sympy\n",
    "from sympy import symbols, diff\n",
    "import numpy as np"
   ]
  },
  {
   "cell_type": "code",
   "execution_count": 3,
   "metadata": {},
   "outputs": [],
   "source": [
    "x, A, m,  s, a0, a1  = symbols('x A m s a0 a1')\n",
    "\n",
    "gaus_sig = A*sympy.exp(-(x - m)**2/(2.*s**2)) # signal\n",
    "lin_bkg = a0 + a1*x #background\n",
    "\n",
    "Total = gaus_sig + lin_bkg #total\n",
    "\n",
    "q  = gaus_sig/(Total) #qfactor\n"
   ]
  },
  {
   "cell_type": "code",
   "execution_count": 6,
   "metadata": {},
   "outputs": [],
   "source": [
    "dq_dA = diff(q, A)\n",
    "dq_dm = diff(q, m)\n",
    "dq_ds = diff(q, s)\n",
    "dq_da0 = diff(q, a0)\n",
    "dq_da1 = diff(q, a1)"
   ]
  },
  {
   "cell_type": "code",
   "execution_count": 7,
   "metadata": {},
   "outputs": [
    {
     "data": {
      "text/latex": [
       "$\\displaystyle \\frac{0.5 A^{2} \\left(2 m - 2 x\\right) e^{- \\frac{1.0 \\left(- m + x\\right)^{2}}{s^{2}}}}{s^{2} \\left(A e^{- \\frac{0.5 \\left(- m + x\\right)^{2}}{s^{2}}} + a_{0} + a_{1} x\\right)^{2}} - \\frac{0.5 A \\left(2 m - 2 x\\right) e^{- \\frac{0.5 \\left(- m + x\\right)^{2}}{s^{2}}}}{s^{2} \\left(A e^{- \\frac{0.5 \\left(- m + x\\right)^{2}}{s^{2}}} + a_{0} + a_{1} x\\right)}$"
      ],
      "text/plain": [
       "0.5*A**2*(2*m - 2*x)*exp(-1.0*(-m + x)**2/s**2)/(s**2*(A*exp(-0.5*(-m + x)**2/s**2) + a0 + a1*x)**2) - 0.5*A*(2*m - 2*x)*exp(-0.5*(-m + x)**2/s**2)/(s**2*(A*exp(-0.5*(-m + x)**2/s**2) + a0 + a1*x))"
      ]
     },
     "execution_count": 7,
     "metadata": {},
     "output_type": "execute_result"
    }
   ],
   "source": [
    "dq_dA"
   ]
  },
  {
   "cell_type": "code",
   "execution_count": 8,
   "metadata": {},
   "outputs": [
    {
     "data": {
      "text/latex": [
       "$\\displaystyle \\frac{0.5 A^{2} \\left(2 m - 2 x\\right) e^{- \\frac{1.0 \\left(- m + x\\right)^{2}}{s^{2}}}}{s^{2} \\left(A e^{- \\frac{0.5 \\left(- m + x\\right)^{2}}{s^{2}}} + a_{0} + a_{1} x\\right)^{2}} - \\frac{0.5 A \\left(2 m - 2 x\\right) e^{- \\frac{0.5 \\left(- m + x\\right)^{2}}{s^{2}}}}{s^{2} \\left(A e^{- \\frac{0.5 \\left(- m + x\\right)^{2}}{s^{2}}} + a_{0} + a_{1} x\\right)}$"
      ],
      "text/plain": [
       "0.5*A**2*(2*m - 2*x)*exp(-1.0*(-m + x)**2/s**2)/(s**2*(A*exp(-0.5*(-m + x)**2/s**2) + a0 + a1*x)**2) - 0.5*A*(2*m - 2*x)*exp(-0.5*(-m + x)**2/s**2)/(s**2*(A*exp(-0.5*(-m + x)**2/s**2) + a0 + a1*x))"
      ]
     },
     "execution_count": 8,
     "metadata": {},
     "output_type": "execute_result"
    }
   ],
   "source": [
    "dq_dm"
   ]
  },
  {
   "cell_type": "code",
   "execution_count": 9,
   "metadata": {},
   "outputs": [
    {
     "data": {
      "text/latex": [
       "$\\displaystyle - \\frac{1.0 A^{2} \\left(- m + x\\right)^{2} e^{- \\frac{1.0 \\left(- m + x\\right)^{2}}{s^{2}}}}{s^{3} \\left(A e^{- \\frac{0.5 \\left(- m + x\\right)^{2}}{s^{2}}} + a_{0} + a_{1} x\\right)^{2}} + \\frac{1.0 A \\left(- m + x\\right)^{2} e^{- \\frac{0.5 \\left(- m + x\\right)^{2}}{s^{2}}}}{s^{3} \\left(A e^{- \\frac{0.5 \\left(- m + x\\right)^{2}}{s^{2}}} + a_{0} + a_{1} x\\right)}$"
      ],
      "text/plain": [
       "-1.0*A**2*(-m + x)**2*exp(-1.0*(-m + x)**2/s**2)/(s**3*(A*exp(-0.5*(-m + x)**2/s**2) + a0 + a1*x)**2) + 1.0*A*(-m + x)**2*exp(-0.5*(-m + x)**2/s**2)/(s**3*(A*exp(-0.5*(-m + x)**2/s**2) + a0 + a1*x))"
      ]
     },
     "execution_count": 9,
     "metadata": {},
     "output_type": "execute_result"
    }
   ],
   "source": [
    "dq_ds"
   ]
  },
  {
   "cell_type": "code",
   "execution_count": 10,
   "metadata": {},
   "outputs": [
    {
     "data": {
      "text/latex": [
       "$\\displaystyle - \\frac{A e^{- \\frac{0.5 \\left(- m + x\\right)^{2}}{s^{2}}}}{\\left(A e^{- \\frac{0.5 \\left(- m + x\\right)^{2}}{s^{2}}} + a_{0} + a_{1} x\\right)^{2}}$"
      ],
      "text/plain": [
       "-A*exp(-0.5*(-m + x)**2/s**2)/(A*exp(-0.5*(-m + x)**2/s**2) + a0 + a1*x)**2"
      ]
     },
     "execution_count": 10,
     "metadata": {},
     "output_type": "execute_result"
    }
   ],
   "source": [
    "dq_da0"
   ]
  },
  {
   "cell_type": "code",
   "execution_count": 11,
   "metadata": {},
   "outputs": [
    {
     "data": {
      "text/latex": [
       "$\\displaystyle - \\frac{A x e^{- \\frac{0.5 \\left(- m + x\\right)^{2}}{s^{2}}}}{\\left(A e^{- \\frac{0.5 \\left(- m + x\\right)^{2}}{s^{2}}} + a_{0} + a_{1} x\\right)^{2}}$"
      ],
      "text/plain": [
       "-A*x*exp(-0.5*(-m + x)**2/s**2)/(A*exp(-0.5*(-m + x)**2/s**2) + a0 + a1*x)**2"
      ]
     },
     "execution_count": 11,
     "metadata": {},
     "output_type": "execute_result"
    }
   ],
   "source": [
    "dq_da1"
   ]
  },
  {
   "cell_type": "code",
   "execution_count": null,
   "metadata": {},
   "outputs": [],
   "source": []
  }
 ],
 "metadata": {
  "kernelspec": {
   "display_name": "Python 3",
   "language": "python",
   "name": "python3"
  },
  "language_info": {
   "codemirror_mode": {
    "name": "ipython",
    "version": 3
   },
   "file_extension": ".py",
   "mimetype": "text/x-python",
   "name": "python",
   "nbconvert_exporter": "python",
   "pygments_lexer": "ipython3",
   "version": "3.9.1"
  }
 },
 "nbformat": 4,
 "nbformat_minor": 4
}
